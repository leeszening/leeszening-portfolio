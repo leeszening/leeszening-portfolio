{
 "cells": [
  {
   "cell_type": "code",
   "execution_count": 3,
   "id": "cfe06447-9147-4d95-b1e1-92dbd54f9c11",
   "metadata": {},
   "outputs": [
    {
     "name": "stdout",
     "output_type": "stream",
     "text": [
      "10\n",
      "10.6\n",
      "False\n",
      "Malaysia\n"
     ]
    }
   ],
   "source": [
    "#4 data type: integer, float, boolean and string\n",
    "a=10 \n",
    "b=20\n",
    "c=10.6\n",
    "d='Malaysia'\n",
    "print(a) #integer\n",
    "print(c) #float\n",
    "print(a>b) #boolean\n",
    "print(d) #string\n",
    "\n"
   ]
  },
  {
   "cell_type": "code",
   "execution_count": 4,
   "id": "19d7a707-0725-4bda-9851-2bc149cbc47f",
   "metadata": {},
   "outputs": [
    {
     "name": "stdin",
     "output_type": "stream",
     "text": [
      "Enter your name ning\n"
     ]
    },
    {
     "name": "stdout",
     "output_type": "stream",
     "text": [
      "My name is ning\n"
     ]
    }
   ],
   "source": [
    "name=input(\"Enter your name\")\n",
    "print(\"My name is\",name)"
   ]
  },
  {
   "cell_type": "code",
   "execution_count": 6,
   "id": "df878ce8-9070-4d55-b403-e0cf761530fc",
   "metadata": {},
   "outputs": [
    {
     "name": "stdin",
     "output_type": "stream",
     "text": [
      "Enter your name 9\n"
     ]
    },
    {
     "name": "stdout",
     "output_type": "stream",
     "text": [
      "My grade is 9\n"
     ]
    }
   ],
   "source": [
    "grade=int(input(\"Enter your name\"))\n",
    "print(\"My grade is\",grade)"
   ]
  },
  {
   "cell_type": "code",
   "execution_count": 7,
   "id": "cbc41855-8fbb-4dd1-83df-ec87aff0a65b",
   "metadata": {},
   "outputs": [
    {
     "name": "stdin",
     "output_type": "stream",
     "text": [
      "Enter your name 3.3\n"
     ]
    },
    {
     "name": "stdout",
     "output_type": "stream",
     "text": [
      "My grade is 3.3\n"
     ]
    }
   ],
   "source": [
    "grade=float(input(\"Enter your name\"))\n",
    "print(\"My grade is\",grade)"
   ]
  },
  {
   "cell_type": "code",
   "execution_count": 9,
   "id": "72907c8f-0182-4d13-98bf-8ec525717db0",
   "metadata": {},
   "outputs": [
    {
     "name": "stdout",
     "output_type": "stream",
     "text": [
      "slash n \n",
      "example\n"
     ]
    }
   ],
   "source": [
    "print(\"slash n \\nexample\")"
   ]
  },
  {
   "cell_type": "code",
   "execution_count": 11,
   "id": "3b4e6740-ff1b-476e-9226-ca22bc0c7090",
   "metadata": {},
   "outputs": [
    {
     "name": "stdout",
     "output_type": "stream",
     "text": [
      "slash t \texample\n"
     ]
    }
   ],
   "source": [
    "print(\"slash t \\texample\")"
   ]
  },
  {
   "cell_type": "code",
   "execution_count": 13,
   "id": "9cef2dc6-9c25-4bf0-bd71-61442cf51028",
   "metadata": {},
   "outputs": [
    {
     "name": "stdout",
     "output_type": "stream",
     "text": [
      "slash \"comma\" example\n"
     ]
    }
   ],
   "source": [
    "print(\"slash \\\"comma\\\" example\")"
   ]
  },
  {
   "cell_type": "code",
   "execution_count": 21,
   "id": "f9e3b825-5fcc-411e-9569-87dae9549253",
   "metadata": {},
   "outputs": [
    {
     "name": "stdout",
     "output_type": "stream",
     "text": [
      "100.0\n"
     ]
    }
   ],
   "source": [
    "# Group Activity 1 : Python Tip CalculatorLearning Objectives:\n",
    "#Practice basic math operations and user input.\n",
    "#Task: \n",
    "#Calculate\n",
    "#total bill\n",
    "#tip %\n",
    "#and the split amount between everyone at your table.\n",
    "#First apply algorithmic thinking, then write code.\n",
    "\n",
    "total_bill = 300\n",
    "tip = 10\n",
    "people_amount = 3\n",
    "\n",
    "print(total_bill*(tip/10)/people_amount)\n"
   ]
  },
  {
   "cell_type": "code",
   "execution_count": null,
   "id": "fc262f14-79fa-4505-a932-28f06c6994f9",
   "metadata": {},
   "outputs": [],
   "source": []
  }
 ],
 "metadata": {
  "kernelspec": {
   "display_name": "Python [conda env:base] *",
   "language": "python",
   "name": "conda-base-py"
  },
  "language_info": {
   "codemirror_mode": {
    "name": "ipython",
    "version": 3
   },
   "file_extension": ".py",
   "mimetype": "text/x-python",
   "name": "python",
   "nbconvert_exporter": "python",
   "pygments_lexer": "ipython3",
   "version": "3.13.5"
  }
 },
 "nbformat": 4,
 "nbformat_minor": 5
}
