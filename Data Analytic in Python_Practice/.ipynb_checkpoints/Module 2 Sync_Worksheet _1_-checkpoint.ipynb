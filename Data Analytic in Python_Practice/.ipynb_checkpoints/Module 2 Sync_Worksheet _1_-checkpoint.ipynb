{
 "cells": [
  {
   "cell_type": "markdown",
   "id": "9e5e395f",
   "metadata": {
    "id": "9e5e395f"
   },
   "source": [
    "# Guided Practice Module 2: Basic Python Programming"
   ]
  },
  {
   "cell_type": "markdown",
   "id": "nppQCAx3bWc5",
   "metadata": {
    "id": "nppQCAx3bWc5"
   },
   "source": [
    "## 🎯Your Mission"
   ]
  },
  {
   "cell_type": "markdown",
   "id": "41a6d42b",
   "metadata": {
    "id": "41a6d42b"
   },
   "source": [
    "Now that you’ve completed the lessons in Module 2, it’s time to apply what you’ve learned! In this guided practice session, you’ll work through a series of hands-on coding exercises that bring together key concepts from the module.\n",
    "\n",
    "You will apply the following learning objectives from Lessons 2A- 2E:\n",
    "\n",
    "## Learning Objectives:\n",
    "\n",
    "1. Work with different data types (int, float, str, booleans, and data collections)\n",
    "2. Use conditionals (if/elif/else) and logical operators to control program flow.\n",
    "3. Apply loops (for and while) to repeat actions based on conditions or sequences.\n",
    "4. Define and use functions to write modular, reusable code with return values."
   ]
  },
  {
   "cell_type": "code",
   "execution_count": null,
   "id": "6943a728-0ba0-4aa2-b70b-78e162a4eca5",
   "metadata": {},
   "outputs": [],
   "source": []
  },
  {
   "cell_type": "markdown",
   "id": "514b7973-c733-4006-9f65-b93e98254679",
   "metadata": {
    "id": "514b7973-c733-4006-9f65-b93e98254679"
   },
   "source": [
    "### 1️⃣ Perform type conversions\n",
    "\n",
    "Goal:\n",
    "Create a distance conversion tool that converts kilometers to miles.\n",
    "\n",
    "1. User Input: Distance in kilometers (string input from user)\n",
    "2. Conversion: Kilometers to miles using the conversion factor 1 km = 0.621371 miles\n",
    "3. Requirement: Perform appropriate data type conversions (from string to float)"
   ]
  },
  {
   "cell_type": "code",
   "execution_count": 27,
   "id": "c35e7b5e-49c5-41d9-85b7-c8b09f601d01",
   "metadata": {},
   "outputs": [
    {
     "name": "stdout",
     "output_type": "stream",
     "text": [
      "Welcome to km to miles calculator! \n",
      "\n"
     ]
    },
    {
     "name": "stdin",
     "output_type": "stream",
     "text": [
      "Please input a distance in kilometers: 11\n"
     ]
    },
    {
     "name": "stdout",
     "output_type": "stream",
     "text": [
      "Distance in miles is  6.835081\n"
     ]
    }
   ],
   "source": [
    "print(\"Welcome to km to miles calculator! \\n\")\n",
    "\n",
    "Distance_in_km = float(input(\"Please input a distance in kilometers:\"))\n",
    "Distance_in_m = Distance_in_km * 0.621371 \n",
    "\n",
    "print(\"Distance in miles is \", Distance_in_m)\n",
    "\n"
   ]
  },
  {
   "cell_type": "markdown",
   "id": "e59aa4c2",
   "metadata": {
    "id": "e59aa4c2"
   },
   "source": [
    "**Reflection:** What would happen if the user entered a non-numeric value (e.g., \"five\") when prompted for the distance in kilometers?\n",
    "\n",
    "<details>\n",
    "<summary>Solution</summary>\n",
    "If the user enters a non-numeric value, the program will raise a ValueError because the float() function cannot convert non-numeric input to a floating-point number. To handle such cases, input validation should be added to ensure the program behaves gracefully.\n",
    "</details>\n",
    "\n",
    "<details>\n",
    "<summary>Sample Code</summary>    \n",
    "    \n",
    "```python\n",
    "# If is_active is a string\n",
    "is_active = \"yes\"\n",
    "print(\"Active:\", is_active)  # This will print \"Active: yes\", which might confuse the user.\n",
    "\n",
    "# If is_active is an integer\n",
    "is_active = 1\n",
    "if is_active:  # This will still evaluate as True because non-zero integers are truthy.\n",
    "    print(\"User is active.\")\n",
    "else:\n",
    "    print(\"User is not active.\")\n",
    "```\n",
    "</details>\n"
   ]
  },
  {
   "cell_type": "code",
   "execution_count": 29,
   "id": "b53f9ac4-dc02-4ef6-9324-c9f359492bbe",
   "metadata": {},
   "outputs": [
    {
     "name": "stdout",
     "output_type": "stream",
     "text": [
      "Welcome to km to miles calculator! \n",
      "\n"
     ]
    },
    {
     "name": "stdin",
     "output_type": "stream",
     "text": [
      "Please input a distance in kilometers: five\n"
     ]
    },
    {
     "name": "stdout",
     "output_type": "stream",
     "text": [
      "That's not an integer. Please try again.\n"
     ]
    },
    {
     "name": "stdin",
     "output_type": "stream",
     "text": [
      "Please input a distance in kilometers: 3\n"
     ]
    },
    {
     "name": "stdout",
     "output_type": "stream",
     "text": [
      "Distance in miles is  1.8641130000000001\n"
     ]
    }
   ],
   "source": [
    "print(\"Welcome to km to miles calculator! \\n\")\n",
    "\n",
    "while True:\n",
    "    try: #to run the code might fail \n",
    "        Distance_in_km = float(input(\"Please input a distance in kilometers:\"))\n",
    "        Distance_in_m = Distance_in_km * 0.621371 \n",
    "    \n",
    "        print(\"Distance in miles is \", Distance_in_m)\n",
    "        break\n",
    "        \n",
    "    except ValueError: #if fail show this\n",
    "        print(\"That's not an integer. Please try again.\")\n",
    "\n",
    "#.isdigit cant use as not involved float\n",
    "        "
   ]
  },
  {
   "cell_type": "markdown",
   "id": "89dcda0b-d9c5-43c0-b3fd-83870694579f",
   "metadata": {
    "id": "89dcda0b-d9c5-43c0-b3fd-83870694579f"
   },
   "source": [
    "### 2️⃣ Using logical operators and conditional statements\n",
    "\n",
    "Task: You’re creating a leap year checker tool for time travelers. Take user inputs and use logical operators and conditionals to determine if a year is a leap year.\n",
    "\n",
    "If the year is divisible by 4 but not divisible by 100, it’s a leap year.\n",
    "OR, if the year is divisible by 400, it’s also a leap year.\n",
    "Otherwise, it’s not a leap year."
   ]
  },
  {
   "cell_type": "code",
   "execution_count": 13,
   "id": "e68712df-b459-48b6-b41b-02380335c0da",
   "metadata": {
    "id": "e68712df-b459-48b6-b41b-02380335c0da"
   },
   "outputs": [
    {
     "name": "stdout",
     "output_type": "stream",
     "text": [
      "Welcome to Leap Year Checker!\n",
      "\n"
     ]
    },
    {
     "name": "stdin",
     "output_type": "stream",
     "text": [
      "Input the year you want to check!  1111\n"
     ]
    },
    {
     "name": "stdout",
     "output_type": "stream",
     "text": [
      "1111 is NOT a leap year!\n"
     ]
    }
   ],
   "source": [
    "print (\"Welcome to Leap Year Checker!\\n\")\n",
    "year = int(input(\"Input the year you want to check! \"))\n",
    "\n",
    "if (year % 4 == 0 and year % 100 != 0):\n",
    "     print(f\"Yes! {year} is a leap year!\")\n",
    "elif year % 400 == 0:\n",
    "     print(f\"Yes! {year} is a leap year!\")   \n",
    "else:\n",
    "    print(f\"{year} is NOT a leap year!\")\n"
   ]
  },
  {
   "cell_type": "markdown",
   "id": "f12e7a5b-e93d-47ed-bf3e-1ff638c5dbd9",
   "metadata": {
    "id": "f12e7a5b-e93d-47ed-bf3e-1ff638c5dbd9"
   },
   "source": [
    "**Reflection:** How do logical operators help in making leap year conditions concise?\n",
    "\n",
    "<details>\n",
    "<summary>Solution</summary>\n",
    "Logical operators (and, or, not) allow you to combine multiple conditions into clear and concise checks.\n",
    "</details>\n",
    "\n",
    "<details>\n",
    "<summary>Sample Code</summary>    \n",
    "    \n",
    "```python\n",
    "year = int(input(\"Enter a year: \"))\n",
    "\n",
    "if year % 4 == 0 and year % 100 != 0:\n",
    "    print(f\"{year} is a leap year. Pack your bags for extra time!\")\n",
    "elif year % 400 == 0:\n",
    "    print(f\"{year} is a leap year. Enjoy the bonus day!\")\n",
    "else:\n",
    "    print(f\"{year} is not a leap year. Time marches on as usual.\")\n",
    "```\n",
    "</details>"
   ]
  },
  {
   "cell_type": "markdown",
   "id": "94529c90-17a3-44bb-9bbe-78261ea593d6",
   "metadata": {
    "id": "94529c90-17a3-44bb-9bbe-78261ea593d6"
   },
   "source": [
    "### 3️⃣ Remove and Sort through a List\n",
    "\n",
    "You’re managing a team of players. Fill in the blanks in the code to:\n",
    "\n",
    "1. Remove a player from the list using their name.\n",
    "2. Sort the list in alphabetical order.\n",
    "3. Print the updated list.\n"
   ]
  },
  {
   "cell_type": "code",
   "execution_count": 20,
   "id": "e5808f7d-d02c-4207-b93e-1ae03d273736",
   "metadata": {
    "id": "e5808f7d-d02c-4207-b93e-1ae03d273736",
    "outputId": "f3a2d0d1-be8a-475b-ff51-225cebe531be"
   },
   "outputs": [
    {
     "ename": "ValueError",
     "evalue": "list.remove(x): x not in list",
     "output_type": "error",
     "traceback": [
      "\u001b[0;31m---------------------------------------------------------------------------\u001b[0m",
      "\u001b[0;31mValueError\u001b[0m                                Traceback (most recent call last)",
      "Cell \u001b[0;32mIn[20], line 6\u001b[0m\n\u001b[1;32m      4\u001b[0m \u001b[38;5;66;03m# Remove a player (e.g., \"Charlie\")\u001b[39;00m\n\u001b[1;32m      5\u001b[0m players\u001b[38;5;241m.\u001b[39mremove(\u001b[38;5;124m\"\u001b[39m\u001b[38;5;124mCharlie\u001b[39m\u001b[38;5;124m\"\u001b[39m)\n\u001b[0;32m----> 6\u001b[0m players\u001b[38;5;241m.\u001b[39mremove(\u001b[38;5;124m\"\u001b[39m\u001b[38;5;124mCharlies\u001b[39m\u001b[38;5;124m\"\u001b[39m)\n\u001b[1;32m      8\u001b[0m \u001b[38;5;66;03m# Sort the list alphabetically\u001b[39;00m\n\u001b[1;32m      9\u001b[0m players\u001b[38;5;241m.\u001b[39msort\n",
      "\u001b[0;31mValueError\u001b[0m: list.remove(x): x not in list"
     ]
    }
   ],
   "source": [
    "# Initial list of players\n",
    "players = [\"Alice\", \"Bob\", \"Charlie\", \"David\"]\n",
    "\n",
    "# Remove a player (e.g., \"Charlie\")\n",
    "players.remove(\"Charlie\")\n",
    "\n",
    "# Sort the list alphabetically\n",
    "players.sort\n",
    "\n",
    "# add = append, insert, extend\n",
    "players.append(\"Lee\")\n",
    "players.insert(1,\"Cattie\")\n",
    "players.extend([\"Lee\",\"Lim\"])\n",
    "\n",
    "print(\"Updated player list:\", players)"
   ]
  },
  {
   "cell_type": "markdown",
   "id": "d4a6cca9-ec60-4b52-ad75-66cfcc2cebcc",
   "metadata": {
    "id": "d4a6cca9-ec60-4b52-ad75-66cfcc2cebcc"
   },
   "source": [
    "<details>\n",
    "<summary>Sample Answer (Click to Reveal)</summary>\n",
    "\n",
    "```python\n",
    "# Skeleton code\n",
    "players = [\"Alice\", \"Bob\", \"Charlie\", \"David\"]\n",
    "\n",
    "# Remove a player (e.g., \"Charlie\")\n",
    "players.remove(\"Charlie\")\n",
    "\n",
    "# Sort the list alphabetically\n",
    "players.sort()\n",
    "\n",
    "print(\"Updated player list:\", players)\n",
    "\n",
    "```\n",
    "</details>"
   ]
  },
  {
   "cell_type": "markdown",
   "id": "07d19eac-1314-41a4-83ac-4c1876260ebe",
   "metadata": {
    "id": "07d19eac-1314-41a4-83ac-4c1876260ebe"
   },
   "source": [
    "**Reflection:** What happens if you try to remove an element that doesn’t exist in the list?\n",
    "\n",
    "<details>\n",
    "<summary>Solution</summary>\n",
    "If you try to remove a non-existent element, Python raises a ValueError.\n",
    "</details>\n",
    "\n",
    "<details>\n",
    "<summary>Sample Code</summary>    \n",
    "    \n",
    "```python\n",
    "# Completed code\n",
    "players = [\"Alice\", \"Bob\", \"Charlie\", \"David\"]\n",
    "\n",
    "# Remove a player\n",
    "players.remove(\"Charlie\")\n",
    "\n",
    "# Sort the list alphabetically\n",
    "players.sort()\n",
    "\n",
    "print(\"Updated player list:\", players)\n",
    "```\n",
    "</details>"
   ]
  },
  {
   "cell_type": "markdown",
   "id": "d80a5559-6042-4cf8-96ab-e4f731bc8d0a",
   "metadata": {
    "id": "d80a5559-6042-4cf8-96ab-e4f731bc8d0a"
   },
   "source": [
    "### 4️⃣ Using string methods to manipulate user input\n",
    "\n",
    "Task:  You’re building a search tool to help users replace words in a given sentence. Take user inputs and use string methods to:\n",
    "\n",
    "1. Take a sentence from the user.\n",
    "2. Ask for the word they want to replace.\n",
    "3. Ask for the new word.\n",
    "4. Replace the old word with the new one using a string method.\n",
    "5. Print the updated sentence."
   ]
  },
  {
   "cell_type": "code",
   "execution_count": 33,
   "id": "0888f926-a07e-4926-80cd-f85ed22e1fd2",
   "metadata": {
    "id": "0888f926-a07e-4926-80cd-f85ed22e1fd2"
   },
   "outputs": [
    {
     "name": "stdout",
     "output_type": "stream",
     "text": [
      "Welcome to Replace Words Tool! \n",
      "\n"
     ]
    },
    {
     "name": "stdin",
     "output_type": "stream",
     "text": [
      "Original sentence:  abc\n",
      "Word you want to replace:  b\n",
      "Replace with what word?  d\n"
     ]
    },
    {
     "name": "stdout",
     "output_type": "stream",
     "text": [
      "New sentence: adc\n"
     ]
    }
   ],
   "source": [
    "print(\"Welcome to Replace Words Tool! \\n\")\n",
    "\n",
    "sentence = str(input(\"Original sentence: \"))\n",
    "replaced_word = str(input(\"Word you want to replace: \"))\n",
    "new_word = str(input(\"Replace with what word? \"))\n",
    "\n",
    "new_sentence = sentence.replace(replaced_word, new_word)\n",
    "\n",
    "print(\"New sentence:\", new_sentence)\n"
   ]
  },
  {
   "cell_type": "markdown",
   "id": "24f57c27-91c2-49b5-99a4-e84385b08767",
   "metadata": {
    "id": "24f57c27-91c2-49b5-99a4-e84385b08767"
   },
   "source": [
    "**Reflection:** What would happen if the word_to_replace entered by the user is not found in the text?\n",
    "\n",
    "<details>\n",
    "<summary>Solution</summary>\n",
    "If the word_to_replace is not found in the text, the replace() method will leave the original text unchanged. No error is raised, and the program will simply output the original text without any modifications.\n",
    "</details>\n",
    "\n",
    "<details>\n",
    "<summary>Sample Code</summary>    \n",
    "    \n",
    "```python\n",
    "# Example input\n",
    "text = \"The quick brown fox jumps over the lazy dog.\"\n",
    "word_to_replace = \"cat\"  # Word not in text\n",
    "replacement_word = \"tiger\"\n",
    "\n",
    "# Replace word\n",
    "new_text = text.replace(word_to_replace, replacement_word)\n",
    "print(\"Updated text:\", new_text)\n",
    "\n",
    "# Output:\n",
    "# \"The quick brown fox jumps over the lazy dog.\"\n",
    "```\n",
    "</details>"
   ]
  },
  {
   "cell_type": "markdown",
   "id": "fedbf9b9-1272-4e99-8837-cccaf31a68ca",
   "metadata": {
    "id": "fedbf9b9-1272-4e99-8837-cccaf31a68ca"
   },
   "source": [
    "### 5️⃣ Using loops for repetitive tasks and demonstrates how to accumulate values during iteration.\n",
    "\n",
    "Task: You’re programming a game to track player scores. Fill in the blanks to complete a program that:\n",
    "\n",
    "1. Asks the user for a number of scores to input.\n",
    "2. Collects the scores in a loop, adding them to a total.\n",
    "3. Calculates and prints the average score at the end."
   ]
  },
  {
   "cell_type": "code",
   "execution_count": 45,
   "id": "cf97a17f-e237-42a7-a2fa-6cf171838b22",
   "metadata": {
    "id": "cf97a17f-e237-42a7-a2fa-6cf171838b22",
    "outputId": "40d38bff-f087-4f2e-a45c-2f8ee65d93bf"
   },
   "outputs": [
    {
     "name": "stdin",
     "output_type": "stream",
     "text": [
      "How many scores do you want to enter?  2\n",
      "Enter score 1:  3\n",
      "Enter score 2:  4\n"
     ]
    },
    {
     "name": "stdout",
     "output_type": "stream",
     "text": [
      "The average score is: 4\n"
     ]
    }
   ],
   "source": [
    "# Skeleton code\n",
    "num_scores = int(input(\"How many scores do you want to enter? \"))\n",
    "total = 0\n",
    "\n",
    "# Loop to collect scores\n",
    "for i in range(num_scores):\n",
    "    score = int(input(f\"Enter score {i + 1}: \"))\n",
    "    total = total + score  # total+= score\n",
    "\n",
    "# Calculate average\n",
    "average = total /num_scores\n",
    "print(\"The average score is:\", round(average))"
   ]
  },
  {
   "cell_type": "markdown",
   "id": "9edd71d4-3c0d-4ecd-bf83-b4542efe7fe9",
   "metadata": {
    "id": "9edd71d4-3c0d-4ecd-bf83-b4542efe7fe9"
   },
   "source": [
    "**Reflection:** Why is it important to initialize the total variable before starting the loop?\n",
    "\n",
    "<details>\n",
    "<summary>Solution</summary>\n",
    "Initializing total to 0 ensures that it can accumulate the scores correctly. Without initialization, the program will raise an error when trying to add to an undefined variable.\n",
    "</details>\n",
    "\n",
    "<details>\n",
    "<summary>Sample Code</summary>    \n",
    "    \n",
    "```python\n",
    "# Completed code\n",
    "# Completed code\n",
    "num_scores = int(input(\"How many scores do you want to enter? \"))\n",
    "total = 0\n",
    "\n",
    "# Loop to collect scores\n",
    "for i in range(num_scores):\n",
    "    score = int(input(f\"Enter score {i + 1}: \"))\n",
    "    total += score\n",
    "\n",
    "# Calculate average\n",
    "average = total / num_scores\n",
    "print(\"The average score is:\", average)\n",
    "\n",
    "```\n",
    "</details>"
   ]
  },
  {
   "cell_type": "markdown",
   "id": "ae107183-57f9-4fcd-a859-125000a21239",
   "metadata": {
    "id": "ae107183-57f9-4fcd-a859-125000a21239"
   },
   "source": [
    "### 6️⃣ Writing a Function with Parameters and Return Value\n",
    "\n",
    "You’re programming a basic calculator app. Write a function called calculate_sum and you program should include the following steps:\n",
    "\n",
    "1. Define a function calculate_sum with two parameters.\n",
    "2. Use the return statement to return the sum of the two numbers.\n",
    "3. Ask the user to input two numbers.\n",
    "4. Call the function with the user’s numbers and store the result.\n",
    "5. Print the result.\n"
   ]
  },
  {
   "cell_type": "code",
   "execution_count": 46,
   "id": "76ece238-0e13-4e70-b91e-83e8a0469f70",
   "metadata": {
    "id": "76ece238-0e13-4e70-b91e-83e8a0469f70"
   },
   "outputs": [
    {
     "name": "stdout",
     "output_type": "stream",
     "text": [
      "Welcome to Sum Calculator!\n"
     ]
    },
    {
     "name": "stdin",
     "output_type": "stream",
     "text": [
      "first number: 2\n",
      "second number: 3\n"
     ]
    },
    {
     "name": "stdout",
     "output_type": "stream",
     "text": [
      "total: 5.0\n"
     ]
    }
   ],
   "source": [
    "#calculate sum calculator\n",
    "print(\"Welcome to Sum Calculator!\")\n",
    "\n",
    "# def function 2 parameters and return sum of 2 numbers\n",
    "def sum(x,y):\n",
    "    # ask inputs\n",
    "    x = float(input(\"first number:\"))\n",
    "    y = float(input(\"second number:\"))\n",
    "    return x + y\n",
    "    \n",
    "print(f\"total: {sum(x,y)}\")# call the function & print the result\n"
   ]
  },
  {
   "cell_type": "markdown",
   "id": "d7bfdfcd-eb6b-4e8d-8eed-3e13cbe729c4",
   "metadata": {
    "id": "d7bfdfcd-eb6b-4e8d-8eed-3e13cbe729c4",
    "jp-MarkdownHeadingCollapsed": true
   },
   "source": [
    "**Reflection:** Why is the return statement necessary in this program?\n",
    "\n",
    "<details>\n",
    "<summary>Solution</summary>\n",
    "The return statement allows the function to pass the calculated sum back to the main program for further use. Without it, the sum could not be accessed outside the function.\n",
    "</details>\n",
    "\n",
    "<details>\n",
    "<summary>Sample Code</summary>    \n",
    "    \n",
    "```python\n",
    "# Completed code\n",
    "def calculate_sum(num1, num2):\n",
    "    total = num1 + num2\n",
    "    return total\n",
    "\n",
    "# User inputs\n",
    "num1 = float(input(\"Enter the first number: \"))\n",
    "num2 = float(input(\"Enter the second number: \"))\n",
    "\n",
    "# Call the function and print the result\n",
    "result = calculate_sum(num1, num2)\n",
    "print(\"The sum is:\", result)\n",
    "\n",
    "```\n",
    "</details>"
   ]
  }
 ],
 "metadata": {
  "colab": {
   "provenance": []
  },
  "kernelspec": {
   "display_name": "Python [conda env:base] *",
   "language": "python",
   "name": "conda-base-py"
  },
  "language_info": {
   "codemirror_mode": {
    "name": "ipython",
    "version": 3
   },
   "file_extension": ".py",
   "mimetype": "text/x-python",
   "name": "python",
   "nbconvert_exporter": "python",
   "pygments_lexer": "ipython3",
   "version": "3.13.5"
  }
 },
 "nbformat": 4,
 "nbformat_minor": 5
}
