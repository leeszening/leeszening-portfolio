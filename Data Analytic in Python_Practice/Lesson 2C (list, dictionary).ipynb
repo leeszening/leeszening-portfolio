{
 "cells": [
  {
   "cell_type": "code",
   "execution_count": 4,
   "id": "50313d95-f316-46b5-bc1d-d09efbc94dd8",
   "metadata": {},
   "outputs": [
    {
     "name": "stdout",
     "output_type": "stream",
     "text": [
      "['tea', 'coffee', 'ice cream', 'cake', 'juice']\n"
     ]
    }
   ],
   "source": [
    "product_sold = [\"tea\", \"coffee\", \"ice cream\", \"cake\", \"juice\"]\n",
    "print(product_sold)"
   ]
  },
  {
   "cell_type": "code",
   "execution_count": 5,
   "id": "feda4177-00cd-4df5-a443-49d4c9cd01d3",
   "metadata": {},
   "outputs": [
    {
     "name": "stdout",
     "output_type": "stream",
     "text": [
      "50\n",
      "10\n",
      "150\n",
      "30.0\n"
     ]
    }
   ],
   "source": [
    "numbers = [10, 20, 30, 40, 50]\n",
    "\n",
    "print(max(numbers))\n",
    "print(min(numbers))\n",
    "print(sum(numbers))\n",
    "mean = sum(numbers)/len(numbers)\n",
    "print(mean)"
   ]
  },
  {
   "cell_type": "code",
   "execution_count": 11,
   "id": "ef8ca216-bb44-4ee9-adbc-2da994a090d0",
   "metadata": {},
   "outputs": [
    {
     "name": "stdout",
     "output_type": "stream",
     "text": [
      "Total customer: 10\n",
      "Average: 3.2\n"
     ]
    }
   ],
   "source": [
    "rating = [1, 2, 3, 5, 3, 2, 3 , 5, 5, 3]\n",
    "print(\"Total customer:\", len(rating))\n",
    "print(\"Average:\", sum(rating)/len(rating))"
   ]
  },
  {
   "cell_type": "code",
   "execution_count": null,
   "id": "56214540-9e54-4d4b-bd5f-f7ac55c1d0c8",
   "metadata": {},
   "outputs": [],
   "source": []
  }
 ],
 "metadata": {
  "kernelspec": {
   "display_name": "Python [conda env:base] *",
   "language": "python",
   "name": "conda-base-py"
  },
  "language_info": {
   "codemirror_mode": {
    "name": "ipython",
    "version": 3
   },
   "file_extension": ".py",
   "mimetype": "text/x-python",
   "name": "python",
   "nbconvert_exporter": "python",
   "pygments_lexer": "ipython3",
   "version": "3.13.5"
  }
 },
 "nbformat": 4,
 "nbformat_minor": 5
}
