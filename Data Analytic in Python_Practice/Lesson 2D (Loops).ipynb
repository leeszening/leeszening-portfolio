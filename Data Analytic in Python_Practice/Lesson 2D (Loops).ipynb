{
 "cells": [
  {
   "cell_type": "code",
   "execution_count": 1,
   "id": "00764645-88a1-4126-aa41-8477bff5dba9",
   "metadata": {},
   "outputs": [
    {
     "name": "stdout",
     "output_type": "stream",
     "text": [
      "0\n",
      "1\n",
      "2\n",
      "3\n",
      "4\n"
     ]
    }
   ],
   "source": [
    "for i in range (5):\n",
    "    print(i)"
   ]
  },
  {
   "cell_type": "code",
   "execution_count": 45,
   "id": "390d43b2-c33d-4b81-9368-bf9c97729442",
   "metadata": {},
   "outputs": [
    {
     "name": "stdout",
     "output_type": "stream",
     "text": [
      "Column Indexes:\n",
      "Column 1 Name\n",
      "Column 2 Age\n",
      "Column 3 Gender\n",
      "Column 4 Country\n",
      "Column 5 Income\n"
     ]
    }
   ],
   "source": [
    "columns = [\"Name\", \"Age\", \"Gender\",\"Country\",\"Income\"]\n",
    "\n",
    "print(\"Column Indexes:\")\n",
    "for i in range(len(columns)):\n",
    "    print(\"Column\", i+1, columns[i])"
   ]
  },
  {
   "cell_type": "code",
   "execution_count": 7,
   "id": "46b60b0e-ace6-4581-a398-5374753d510f",
   "metadata": {},
   "outputs": [
    {
     "name": "stdout",
     "output_type": "stream",
     "text": [
      "Original prices: [2.5, 3.0, 2.75, 3.5, 3.25]\n",
      "Prices with 6% GST: [2.6500000000000004, 3.18, 2.915, 3.71, 3.4450000000000003]\n"
     ]
    }
   ],
   "source": [
    "prices = [2.50, 3.00, 2.75, 3.50, 3.25]\n",
    "print(\"Original prices:\", prices)\n",
    "\n",
    "# create an empty new list\n",
    "gst_prices = []\n",
    "\n",
    "# apply %6 GST on each price & adds the value to the new list\n",
    "for price in prices:\n",
    "    updated_price = price * 1.06\n",
    "    gst_prices.append(updated_price)\n",
    "\n",
    "# print new list\n",
    "print(\"Prices with 6% GST:\", gst_prices)"
   ]
  },
  {
   "cell_type": "code",
   "execution_count": 10,
   "id": "aab9cab4-7842-4c45-91fa-bf5484f80d9b",
   "metadata": {},
   "outputs": [
    {
     "name": "stdout",
     "output_type": "stream",
     "text": [
      "$ 150\n",
      "$ 200\n",
      "$ 175\n",
      "$ 300\n",
      "$ 250\n"
     ]
    }
   ],
   "source": [
    "sales = [150, 200, 175, 300, 250]\n",
    "\n",
    "# loop each sale with a dollor sign\n",
    "for sale in sales:\n",
    "    print(\"$\", sale) # or print(\"$\" + str(sale))"
   ]
  },
  {
   "cell_type": "code",
   "execution_count": 40,
   "id": "8f79359b-6e35-4d44-a363-0c601488fd43",
   "metadata": {},
   "outputs": [
    {
     "name": "stdout",
     "output_type": "stream",
     "text": [
      "celcius_list: [28, 30, 34, 26, 38]\n",
      "fahrenheit_list: [82.4, 86.0, 93.2, 78.8, 100.4]\n",
      "description: ['82.4: normal day', '86.0: normal day', '93.2: normal day', '78.8: normal day', '100.4: hot day!']\n",
      "average: 88.16\n"
     ]
    }
   ],
   "source": [
    "# 0 °C = 32 °F\n",
    "celcius_list = [28, 30, 34, 26, 38]\n",
    "print (\"celcius_list:\", celcius_list)\n",
    "fahrenheit_list = []\n",
    "\n",
    "#loop, convert, append and print\n",
    "for celcius in celcius_list:\n",
    "    fahrenheit = (celcius *9/5) + 32\n",
    "    fahrenheit_list.append(fahrenheit)\n",
    "\n",
    "print (\"fahrenheit_list:\",fahrenheit_list)\n",
    "\n",
    "#print hot day\n",
    "descriptions = []\n",
    "\n",
    "for fahrenheit in fahrenheit_list:\n",
    "    if fahrenheit > 95:\n",
    "        description = str(fahrenheit) + \": hot day!\"\n",
    "        descriptions.append(description)\n",
    "    else: \n",
    "        description = str(fahrenheit) + \": normal day\"\n",
    "        descriptions.append(description)\n",
    "\n",
    "print (\"description:\", descriptions)\n",
    "\n",
    "#find average value\n",
    "average = sum(fahrenheit_list)/len(fahrenheit_list)\n",
    "print(\"average:\",average)\n"
   ]
  },
  {
   "cell_type": "code",
   "execution_count": 28,
   "id": "b3496dce-5c33-4737-b844-78fe5d44aac7",
   "metadata": {},
   "outputs": [
    {
     "name": "stdout",
     "output_type": "stream",
     "text": [
      "celcius_list: [28, 30, 34, 26]\n",
      "Kelvin_list: [301.15, 303.15, 307.15, 299.15]\n",
      "average: 302.65\n"
     ]
    }
   ],
   "source": [
    "# 0 °C = + 273.15 K\n",
    "celcius_list = [28, 30, 34, 26]\n",
    "print (\"celcius_list:\", celcius_list)\n",
    "Kelvin_list = []\n",
    "\n",
    "#loop, convert, append and print\n",
    "for celcius in celcius_list:\n",
    "    Kelvin = float(celcius) + 273.15\n",
    "    Kelvin_list.append(Kelvin)\n",
    "\n",
    "print (\"Kelvin_list:\",Kelvin_list)\n",
    "\n",
    "#find average value\n",
    "average = sum(Kelvin_list)/len(Kelvin_list)\n",
    "print(\"average:\",average)"
   ]
  },
  {
   "cell_type": "code",
   "execution_count": 41,
   "id": "dbea7002-fe0a-4cc5-b58f-f9a02ab16d0e",
   "metadata": {},
   "outputs": [
    {
     "name": "stdout",
     "output_type": "stream",
     "text": [
      "1 malaysia\n",
      "2 malaysia\n",
      "3 malaysia\n"
     ]
    }
   ],
   "source": [
    "for i in range(3):\n",
    "    print(i+1, \"malaysia\")"
   ]
  },
  {
   "cell_type": "code",
   "execution_count": 42,
   "id": "59bc0217-a417-4cc5-9e21-72311341aef8",
   "metadata": {},
   "outputs": [
    {
     "name": "stdout",
     "output_type": "stream",
     "text": [
      "4 malaysia\n",
      "6 malaysia\n"
     ]
    }
   ],
   "source": [
    "for i in range(3,6,2):\n",
    "    print(i+1, \"malaysia\")"
   ]
  },
  {
   "cell_type": "code",
   "execution_count": 89,
   "id": "efcd6a03-8c27-4eb8-ac64-b5e159d7d37d",
   "metadata": {},
   "outputs": [
    {
     "name": "stdout",
     "output_type": "stream",
     "text": [
      "[0, 1, 2, 3, 4]\n"
     ]
    }
   ],
   "source": [
    "#list comprehensive\n",
    "result = [i for i in range(5)]\n",
    "print(result)"
   ]
  },
  {
   "cell_type": "code",
   "execution_count": 90,
   "id": "0dcc0702-eba8-48d9-8eb7-61573756ede1",
   "metadata": {},
   "outputs": [
    {
     "name": "stdout",
     "output_type": "stream",
     "text": [
      "[0, 2, 4, 6, 8]\n"
     ]
    }
   ],
   "source": [
    "result = [i*2 for i in range(5)]\n",
    "print(result)"
   ]
  },
  {
   "cell_type": "code",
   "execution_count": 93,
   "id": "e2ab659c-af04-4fe9-82d8-5ba039d44cba",
   "metadata": {},
   "outputs": [
    {
     "name": "stdout",
     "output_type": "stream",
     "text": [
      "[6.36, 6.36, 6.36]\n"
     ]
    }
   ],
   "source": [
    "#list comprehensive\n",
    "prices = [2.3, 4.3, 6.7]\n",
    "after_gst = [i*1.06 for price in prices]\n",
    "print(after_gst)"
   ]
  },
  {
   "cell_type": "code",
   "execution_count": 83,
   "id": "5607c9d0-751b-451b-ae82-96b303481a46",
   "metadata": {},
   "outputs": [
    {
     "name": "stdout",
     "output_type": "stream",
     "text": [
      "3\n",
      "4\n",
      "5\n",
      "6\n"
     ]
    }
   ],
   "source": [
    "#same as below while loop\n",
    "x=3 #start\n",
    "y=7 #digit after the last number\n",
    "# z=1 #step\n",
    "\n",
    "for i in range(x, y):\n",
    "    print(i)"
   ]
  },
  {
   "cell_type": "code",
   "execution_count": 82,
   "id": "83298438-9fad-43f3-ba6d-0b46955a211a",
   "metadata": {},
   "outputs": [
    {
     "name": "stdout",
     "output_type": "stream",
     "text": [
      "6\n",
      "12\n"
     ]
    }
   ],
   "source": [
    "#same as below for loop\n",
    "num=3 #start\n",
    "\n",
    "while (num < 7): #5=digit after the last number\n",
    "    num=num*2 # step\n",
    "    print(num)\n",
    "    "
   ]
  },
  {
   "cell_type": "code",
   "execution_count": null,
   "id": "fde5169d-b1f6-4ac5-a4d9-bfe3654bd772",
   "metadata": {},
   "outputs": [],
   "source": []
  }
 ],
 "metadata": {
  "kernelspec": {
   "display_name": "Python [conda env:base] *",
   "language": "python",
   "name": "conda-base-py"
  },
  "language_info": {
   "codemirror_mode": {
    "name": "ipython",
    "version": 3
   },
   "file_extension": ".py",
   "mimetype": "text/x-python",
   "name": "python",
   "nbconvert_exporter": "python",
   "pygments_lexer": "ipython3",
   "version": "3.13.5"
  }
 },
 "nbformat": 4,
 "nbformat_minor": 5
}
