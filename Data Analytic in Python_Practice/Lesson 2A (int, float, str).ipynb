{
 "cells": [
  {
   "cell_type": "code",
   "execution_count": 3,
   "id": "add269ae-c66f-446d-927c-854ad17f6bdd",
   "metadata": {},
   "outputs": [
    {
     "name": "stdout",
     "output_type": "stream",
     "text": [
      "22\n",
      "<class 'int'>\n",
      "12.5\n",
      "<class 'float'>\n",
      "42\n",
      "<class 'str'>\n"
     ]
    }
   ],
   "source": [
    "x1 = 22\n",
    "print (x1)\n",
    "print (type (x1))\n",
    "\n",
    "x2 = 12.5\n",
    "print (x2)\n",
    "print (type (x2))\n",
    "\n",
    "s = \"42\"\n",
    "print (s)\n",
    "print (type (s))"
   ]
  },
  {
   "cell_type": "code",
   "execution_count": 8,
   "id": "65773aa4-068a-4279-a8dc-e3f07ef607ec",
   "metadata": {},
   "outputs": [
    {
     "name": "stdout",
     "output_type": "stream",
     "text": [
      "6\n",
      "0\n",
      "9\n",
      "1.0\n",
      "3\n"
     ]
    }
   ],
   "source": [
    "v = 3 + 3\n",
    "w = 3 - 3\n",
    "x = 3 * 3\n",
    "y = 3 / 3\n",
    "z = 3 + 3 * (3 - 3)\n",
    "\n",
    "print (v)\n",
    "print (w)\n",
    "print (x)\n",
    "print (y)\n",
    "print (z)"
   ]
  },
  {
   "cell_type": "code",
   "execution_count": 14,
   "id": "57cd1e0a-0afc-47cd-bc43-60c472d38f35",
   "metadata": {},
   "outputs": [
    {
     "name": "stdout",
     "output_type": "stream",
     "text": [
      "Your age is 25\n"
     ]
    }
   ],
   "source": [
    "age = 25\n",
    "print (\"Your age is \" + str(age))"
   ]
  },
  {
   "cell_type": "code",
   "execution_count": null,
   "id": "54c87b1c-9aed-47e0-9252-9e4f690ba440",
   "metadata": {},
   "outputs": [],
   "source": []
  }
 ],
 "metadata": {
  "kernelspec": {
   "display_name": "Python [conda env:base] *",
   "language": "python",
   "name": "conda-base-py"
  },
  "language_info": {
   "codemirror_mode": {
    "name": "ipython",
    "version": 3
   },
   "file_extension": ".py",
   "mimetype": "text/x-python",
   "name": "python",
   "nbconvert_exporter": "python",
   "pygments_lexer": "ipython3",
   "version": "3.13.5"
  }
 },
 "nbformat": 4,
 "nbformat_minor": 5
}
