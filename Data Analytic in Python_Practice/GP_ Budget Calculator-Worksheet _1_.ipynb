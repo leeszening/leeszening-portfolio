{
 "cells": [
  {
   "cell_type": "markdown",
   "id": "eb8b82ae",
   "metadata": {
    "id": "eb8b82ae"
   },
   "source": [
    "# Guided Practice: Budget Calculator."
   ]
  },
  {
   "cell_type": "markdown",
   "id": "fee18667",
   "metadata": {
    "id": "fee18667"
   },
   "source": [
    "## 🎯Your Mission:\n",
    "\n",
    "You are tasked with developing a small program to help a user track their budget and make informed financial decisions. The application should allow users to input their income, categorize expenses, and check whether their spending in different categories stays within limits. The program should also notify the user if they exceed their budget in any category."
   ]
  },
  {
   "cell_type": "markdown",
   "id": "9e310178",
   "metadata": {
    "id": "9e310178"
   },
   "source": [
    "## 📋 Task Overview:\n",
    "\n",
    "Design a Python program that acts like a personal budget assistant. It should:\n",
    "\n",
    "1. Accept the user’s monthly income and budget limits for 3 expense categories.\n",
    "2. Take the actual spending in those categories as input.\n",
    "3. Check if spending exceeds the budget in any category or overall.\n",
    "4. Advise the user whether they’re on track or need to revise their spending habits.\n",
    "5. Display a clean summary with helpful feedback."
   ]
  },
  {
   "cell_type": "markdown",
   "id": "7456cbc2-d640-4da0-af5b-88cfeb84a251",
   "metadata": {
    "jp-MarkdownHeadingCollapsed": true
   },
   "source": [
    "## 🧩Your Proposed Solution\n",
    "\n",
    "Before writing code, think about how you would approach this problem. Consider:\n",
    "\n",
    "- What does the user need to input?\n",
    "- What comparisons and calculations are required?\n",
    "- What feedback should the program give for different scenarios?\n"
   ]
  },
  {
   "cell_type": "markdown",
   "id": "6522b5ac",
   "metadata": {
    "id": "6522b5ac"
   },
   "source": [
    "## 📚 Reading Material\n",
    "\n",
    "To understand the significance of budgeting, read this short article:\n",
    "\n",
    "How to Budget Money: Your Step-by-Step Guide(https://www.investopedia.com/financial-edge/1109/6-reasons-why-you-need-a-budget.aspx)\n",
    "\n",
    "This will give you an idea of why financial planning is essential and how it impacts personal and household finances."
   ]
  },
  {
   "cell_type": "markdown",
   "id": "4dfd8d40",
   "metadata": {
    "id": "4dfd8d40"
   },
   "source": [
    "## Learning Objectives\n",
    "\n",
    "By completing this project, you will:\n",
    "\n",
    "1. Apply Python syntax and indentation correctly.\n",
    "2. Use variables and data types effectively.\n",
    "3. Implement conditional statements, including nested ones, for decision-making.\n",
    "4. Gain experience with simple data structures to organize and process user inputs."
   ]
  },
  {
   "cell_type": "markdown",
   "id": "0c8ca854",
   "metadata": {
    "id": "0c8ca854"
   },
   "source": [
    "## 🔍 Questions to Solve Using Code\n",
    "\n",
    "Answer the following design questions before starting to code. These questions will guide your pseudocode writing and simulate logical breakdown process. "
   ]
  },
  {
   "cell_type": "markdown",
   "id": "9e3a7808",
   "metadata": {
    "id": "9e3a7808"
   },
   "source": [
    "### A. Input Gathering:\n",
    "\n",
    "- What values does the program need from the user?\n",
    "- How will the user define the income and expense categories?\n"
   ]
  },
  {
   "cell_type": "markdown",
   "id": "33a6e6f3",
   "metadata": {
    "id": "33a6e6f3"
   },
   "source": [
    "### B. Expense Tracking:\n",
    "\n",
    "- How should the budget for each category be stored?\n",
    "- Can the category list be made flexible?"
   ]
  },
  {
   "cell_type": "markdown",
   "id": "b55eefef",
   "metadata": {
    "id": "b55eefef"
   },
   "source": [
    "### C. Budget Validation:\n",
    "\n",
    "- How do you check if the total expenses are within the income limit?\n",
    "- How do you compare spending in each category against its budget?\n",
    "  "
   ]
  },
  {
   "cell_type": "markdown",
   "id": "ea01dbc4",
   "metadata": {
    "id": "ea01dbc4"
   },
   "source": [
    "### D. Decision-making Logic:\n",
    "\n",
    "- What message will the program display when a user overspends or underspends?\n",
    "- How can the program help users make better decisions?"
   ]
  },
  {
   "cell_type": "markdown",
   "id": "5e08a2a7-d2bb-4088-b18b-cac03c87381c",
   "metadata": {},
   "source": [
    "### E. Decision-making Logic:\n",
    "\n",
    "- What does a clear, helpful summary look like?\n",
    "- How can feedback be encouraging but corrective?"
   ]
  },
  {
   "cell_type": "markdown",
   "id": "a48161af",
   "metadata": {
    "id": "a48161af"
   },
   "source": [
    "## 🛠️ Writing Your Pseudocode\n",
    "**💭Apply #AlgoThinking**\n",
    "\n",
    "Understand the steps below and write your pseudocode in the space below."
   ]
  },
  {
   "cell_type": "markdown",
   "id": "96d55362",
   "metadata": {
    "id": "96d55362"
   },
   "source": [
    "### Step 1: Program Overview and Setup\n",
    "\n",
    "- Start by creating an introduction message for the program to explain its purpose.\n",
    "\n",
    "### Step 2: Input Collection\n",
    "\n",
    "- Prompt the user to input their monthly income.\n",
    "- Collect user-defined budgets for three categories.\n",
    "\n",
    "### Step 3: Expense Recording\n",
    "\n",
    "- Ask the user for actual spending in each category.\n",
    "\n",
    "### Step 4: Perform Calculations\n",
    "\n",
    "- Calculate the total expenses.\n",
    "- Check if total expenses exceed income.\n",
    "- Compare each category's spending to its budget.\n",
    "\n",
    "### Step 5: Conditional Logic and Feedback\n",
    "\n",
    "- Use conditional statements to:\n",
    "- Notify the user if they are within or over budget.\n",
    "- Identify specific categories with overspending.\n",
    "\n",
    "### Step 6: Display Results\n",
    "\n",
    "- Print a clear, user-friendly summary of the budget, expenses, and decision-making messages.\n"
   ]
  },
  {
   "cell_type": "code",
   "execution_count": null,
   "id": "a57b0cb6-19ed-4140-9b94-3bf17ec71001",
   "metadata": {},
   "outputs": [
    {
     "name": "stdout",
     "output_type": "stream",
     "text": [
      "----I'm your personal budget assistant!---- \n",
      "Kindly input some of you info :) \n",
      "\n"
     ]
    }
   ],
   "source": [
    "# Design a Python program that acts like a personal budget assistant\n",
    "print(\"----I'm your personal budget assistant!---- \\nKindly input some of you info :) \\n\")\n",
    "\n",
    "# Accept the user’s monthly income and budget limits for 3 expense categories.\n",
    "\n",
    "income = float(input(\"Your Income after Tax Deductions:\"))\n",
    "\n",
    "# input: categories, budget limit and expense \n",
    "print(f\"\"\"\\nFigure out 3 main catogories that you spend most based on your spending tracker. (e.g. Food, Entertainment, Fixed bills) \\n\n",
    "Input your budget vs actual spending for each category in this month.\"\"\")\n",
    "categories = []\n",
    "budgets = []\n",
    "expenses = []\n",
    "\n",
    "for i in range (1,4): \n",
    "    cat = str(input(f\"Your Main Expenses Category {i}:\"))\n",
    "    categories.append(str(cat))\n",
    "    budget = float(input(f\"Your Budget for {cat}:\"))\n",
    "    budgets.append(budget)\n",
    "    expense = float(input(f\"Your Actual Expenses for {cat}:\"))\n",
    "    expenses.append(float(expense)) # Take the actual spending in those categories as input.\n",
    "\n",
    "    # Check if spending exceeds the budget in any category or overall.\n",
    "    if budget < expense:\n",
    "        print(f\"Your Expenses for {cat} is higher than your budget! Kindly revise your expenses habits!\\n\")\n",
    "    else:\n",
    "        print(f\"Your Expenses for {cat} still within your budget! You on a good control!\\n\")\n",
    "\n",
    "print(type(budgets.append(budget)))\n",
    "print(type(expenses.append(float(expense))))\n",
    "\n",
    "print(f\"Your income is RM{income:.2f}, \\n\"\n",
    "        f\"and your total budget for 3 main expenses categories is RM{sum(budgets):.2f}. \\n\"\n",
    "        f\"Should be remaining RM{(income - sum(budgets)):.2f} but your actual remaining is RM{(income - sum(expenses)):.2f}.\")\n",
    "\n",
    "if income - sum(budgets) < income - sum(expenses):\n",
    "    print(f\"You save extra money than expected!\")\n",
    "else:\n",
    "    print(f\"You save less money than expected!\")\n",
    "        \n",
    "# Display a clean summary with helpful feedback.\n",
    "# print"
   ]
  },
  {
   "cell_type": "markdown",
   "id": "3122e1b5-3082-40a0-9262-1bb384c50cfe",
   "metadata": {},
   "source": [
    "## 📥 Insert Your Full Code Below\n"
   ]
  },
  {
   "cell_type": "code",
   "execution_count": 39,
   "id": "d5fee8b7-d143-4f5a-b8a2-f846652fa387",
   "metadata": {},
   "outputs": [
    {
     "name": "stdin",
     "output_type": "stream",
     "text": [
      "Your Budget for others: 2000\n",
      "Your Budget for others: 2\n",
      "Your Budget for others: 2\n"
     ]
    },
    {
     "name": "stdout",
     "output_type": "stream",
     "text": [
      "<class 'NoneType'>\n"
     ]
    }
   ],
   "source": [
    "budgets = []\n",
    "\n",
    "for i in range (1,4):\n",
    "budget = float(input(f\"Your Budget for {cat}:\"))\n",
    "test = budgets.append(float(budget))\n",
    "\n",
    "print(type(test))"
   ]
  },
  {
   "cell_type": "markdown",
   "id": "407343a8-b6ec-4771-87ea-6927a5a5979a",
   "metadata": {},
   "source": [
    "<details>\n",
    "<summary>Sample Solution</summary>\n",
    "    \n",
    "```python\n",
    "# Step 1: Program Overview and Setup\n",
    "print(\"Welcome to the Budget Tracker!\")\n",
    "print(\"This program will help you track your budget and expenses.\\n\")\n",
    "\n",
    "# Step 2: Input Collection\n",
    "income = float(input(\"Please enter your monthly income: $\"))\n",
    "print(\"\\nSet your budget for the following categories:\")\n",
    "budget_food = float(input(\"Food budget: $\"))\n",
    "budget_rent = float(input(\"Rent budget: $\"))\n",
    "budget_misc = float(input(\"Miscellaneous budget: $\"))\n",
    "\n",
    "# Step 3: Expense Recording\n",
    "print(\"\\nNow, enter your actual spending in each category:\")\n",
    "spent_food = float(input(\"Food expenses: $\"))\n",
    "spent_rent = float(input(\"Rent expenses: $\"))\n",
    "spent_misc = float(input(\"Miscellaneous expenses: $\"))\n",
    "\n",
    "# Step 4: Perform Calculations\n",
    "total_budget = budget_food + budget_rent + budget_misc\n",
    "total_spent = spent_food + spent_rent + spent_misc\n",
    "\n",
    "# Step 5: Conditional Logic and Feedback\n",
    "print(\"\\n--- Budget Summary ---\")\n",
    "print(f\"Total Income: ${income:.2f}\")\n",
    "print(f\"Total Budget: ${total_budget:.2f}\")\n",
    "print(f\"Total Expenses: ${total_spent:.2f}\\n\")\n",
    "\n",
    "# Check for budget compliance\n",
    "if total_spent > income:\n",
    "    print(\"Alert: You have exceeded your total income!\")\n",
    "elif total_spent <= income:\n",
    "    print(\"Good job! You are within your total income.\")\n",
    "\n",
    "# Check category-wise budget compliance\n",
    "if spent_food > budget_food:\n",
    "    print(f\"Warning: You overspent on Food by ${spent_food - budget_food:.2f}.\")\n",
    "else:\n",
    "    print(\"You stayed within your Food budget.\")\n",
    "\n",
    "if spent_rent > budget_rent:\n",
    "    print(f\"Warning: You overspent on Rent by ${spent_rent - budget_rent:.2f}.\")\n",
    "else:\n",
    "    print(\"You stayed within your Rent budget.\")\n",
    "\n",
    "if spent_misc > budget_misc:\n",
    "    print(f\"Warning: You overspent on Miscellaneous by ${spent_misc - budget_misc:.2f}.\")\n",
    "else:\n",
    "    print(\"You stayed within your Miscellaneous budget.\")\n",
    "\n",
    "# Overall feedback\n",
    "if total_spent <= income and all([\n",
    "    spent_food <= budget_food,\n",
    "    spent_rent <= budget_rent,\n",
    "    spent_misc <= budget_misc\n",
    "]):\n",
    "    print(\"\\nGreat work! You managed your budget effectively.\")\n",
    "else:\n",
    "    print(\"\\nConsider revisiting your spending habits for better financial health.\")\n",
    "```\n",
    "    \n",
    "</details>"
   ]
  }
 ],
 "metadata": {
  "colab": {
   "provenance": []
  },
  "kernelspec": {
   "display_name": "Python [conda env:base] *",
   "language": "python",
   "name": "conda-base-py"
  },
  "language_info": {
   "codemirror_mode": {
    "name": "ipython",
    "version": 3
   },
   "file_extension": ".py",
   "mimetype": "text/x-python",
   "name": "python",
   "nbconvert_exporter": "python",
   "pygments_lexer": "ipython3",
   "version": "3.13.5"
  }
 },
 "nbformat": 4,
 "nbformat_minor": 5
}
