{
 "cells": [
  {
   "cell_type": "code",
   "execution_count": 1,
   "id": "179d49c9-a734-4544-8dd2-28a27e5e2268",
   "metadata": {},
   "outputs": [
    {
     "name": "stdout",
     "output_type": "stream",
     "text": [
      "Hello, World\n"
     ]
    }
   ],
   "source": [
    "print(\"Hello, World\")"
   ]
  },
  {
   "cell_type": "code",
   "execution_count": 1,
   "id": "12714856-1804-46b3-82ae-1fcb95b18683",
   "metadata": {},
   "outputs": [
    {
     "name": "stdout",
     "output_type": "stream",
     "text": [
      "Hello,\n",
      "World\n",
      "It's a sunny day.\n"
     ]
    }
   ],
   "source": [
    "print('Hello,\\nWorld')\n",
    "print('It\\'s a sunny day.')"
   ]
  },
  {
   "cell_type": "code",
   "execution_count": 6,
   "id": "5dc06faa-f5e9-48a6-99ed-ce84df10ad87",
   "metadata": {},
   "outputs": [
    {
     "name": "stdout",
     "output_type": "stream",
     "text": [
      "Hello, sze ning !\n"
     ]
    }
   ],
   "source": [
    "username = 'sze ning'\n",
    "print('Hello,',username,'!')"
   ]
  },
  {
   "cell_type": "code",
   "execution_count": 7,
   "id": "710e7aa5-e030-4f52-ba3e-707179c28a5b",
   "metadata": {},
   "outputs": [
    {
     "name": "stdin",
     "output_type": "stream",
     "text": [
      "What is your age? 27\n"
     ]
    },
    {
     "name": "stdout",
     "output_type": "stream",
     "text": [
      "You are 27 years old!\n"
     ]
    }
   ],
   "source": [
    "age = input('What is your age?')\n",
    "print('You are', age, 'years old!')"
   ]
  },
  {
   "cell_type": "code",
   "execution_count": 8,
   "id": "3d43f244-7e5a-4ff9-ac5f-57b97547d125",
   "metadata": {},
   "outputs": [
    {
     "name": "stdin",
     "output_type": "stream",
     "text": [
      "what time is now? 5pm\n"
     ]
    },
    {
     "name": "stdout",
     "output_type": "stream",
     "text": [
      "now is 5pm !\n"
     ]
    }
   ],
   "source": [
    "time = input('what time is now?')\n",
    "print('now is', time, '!')"
   ]
  },
  {
   "cell_type": "code",
   "execution_count": 11,
   "id": "6c257d32-930c-4814-a142-1f43c3e3db0d",
   "metadata": {},
   "outputs": [
    {
     "name": "stdin",
     "output_type": "stream",
     "text": [
      "Enter your name Lee\n"
     ]
    },
    {
     "name": "stdout",
     "output_type": "stream",
     "text": [
      "Welcome, Lee\n"
     ]
    }
   ],
   "source": [
    "greeting = input('Enter your name')\n",
    "print('Welcome,', greeting)"
   ]
  },
  {
   "cell_type": "code",
   "execution_count": null,
   "id": "2d705e4e-3fac-4c83-a57d-19eadc592e2e",
   "metadata": {},
   "outputs": [],
   "source": []
  }
 ],
 "metadata": {
  "kernelspec": {
   "display_name": "Python [conda env:base] *",
   "language": "python",
   "name": "conda-base-py"
  },
  "language_info": {
   "codemirror_mode": {
    "name": "ipython",
    "version": 3
   },
   "file_extension": ".py",
   "mimetype": "text/x-python",
   "name": "python",
   "nbconvert_exporter": "python",
   "pygments_lexer": "ipython3",
   "version": "3.13.5"
  }
 },
 "nbformat": 4,
 "nbformat_minor": 5
}
