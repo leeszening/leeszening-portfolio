{
 "cells": [
  {
   "cell_type": "code",
   "execution_count": 6,
   "id": "a1bf08e4-dcb3-4bc2-a2db-5ca89b4cf11d",
   "metadata": {},
   "outputs": [
    {
     "name": "stdout",
     "output_type": "stream",
     "text": [
      "Alice\n",
      "Bob\n",
      "Charlie\n",
      "Bella\n"
     ]
    }
   ],
   "source": [
    "def clean_name(name):\n",
    "    return name.strip().title()\n",
    "\n",
    "print(clean_name(\"alice \"))\n",
    "print(clean_name(\"BOB \"))\n",
    "print(clean_name(\" cHARlie     \"))\n",
    "print(clean_name(\" BeLla\"))"
   ]
  },
  {
   "cell_type": "code",
   "execution_count": null,
   "id": "552644a4-b553-4397-81a0-1c9e9902dc9c",
   "metadata": {},
   "outputs": [],
   "source": [
    "def is_valid_score(score):\n",
    "    return score >=0 and score<=100\n",
    "\n",
    "student_score = int(input(\"Stuent score:\"))\n",
    "\n",
    "if is_valid_score(student_score):\n",
    "    print(\"valid score!\")\n",
    "\n",
    "else:\n",
    "    print(\"invalid score :c\")\n"
   ]
  },
  {
   "cell_type": "code",
   "execution_count": 10,
   "id": "6429b6fe-8cb5-414a-8df3-8176059b344d",
   "metadata": {},
   "outputs": [
    {
     "name": "stdout",
     "output_type": "stream",
     "text": [
      "15\n"
     ]
    }
   ],
   "source": [
    "def add(a,b):\n",
    "    return print(a+b)\n",
    "\n",
    "a=2\n",
    "b=13\n",
    "   \n",
    "add(a,b)"
   ]
  },
  {
   "cell_type": "code",
   "execution_count": null,
   "id": "241c87d4-5b10-4a3c-bf68-f651ee0de913",
   "metadata": {},
   "outputs": [],
   "source": []
  },
  {
   "cell_type": "code",
   "execution_count": 1,
   "id": "ae18d081-3af7-401c-bf85-568becee62ef",
   "metadata": {},
   "outputs": [
    {
     "name": "stdout",
     "output_type": "stream",
     "text": [
      "57\n"
     ]
    }
   ],
   "source": [
    "def add():\n",
    "    print(12+45)\n",
    "\n",
    "add()"
   ]
  },
  {
   "cell_type": "code",
   "execution_count": 3,
   "id": "95fb1893-493b-4cd3-9319-d635736d1e1f",
   "metadata": {},
   "outputs": [],
   "source": [
    "def add(a,b):\n",
    "    print(a+b)\n",
    "\n",
    "    c=2\n",
    "    d=13\n",
    "    d=add(c,d)\n",
    "    print(d)\n",
    "\n",
    "    #return is like d\n",
    "    "
   ]
  },
  {
   "cell_type": "code",
   "execution_count": 9,
   "id": "a79f4405-448a-48aa-81f2-90b3399def88",
   "metadata": {},
   "outputs": [
    {
     "name": "stdout",
     "output_type": "stream",
     "text": [
      "The factorial of 5 is 120\n"
     ]
    }
   ],
   "source": [
    "def factorial_recursive(n):\n",
    "    if n == 0:\n",
    "        return 1\n",
    "    else:\n",
    "        return n * factorial_recursive(n - 1)\n",
    "        \n",
    "# Example usage:\n",
    "number = 5\n",
    "result = factorial_recursive(number)\n",
    "print(f\"The factorial of {number} is {result}\")"
   ]
  },
  {
   "cell_type": "code",
   "execution_count": 11,
   "id": "0546e683-388a-4b6e-906d-a1293a4c30ef",
   "metadata": {},
   "outputs": [
    {
     "name": "stdout",
     "output_type": "stream",
     "text": [
      "46\n"
     ]
    }
   ],
   "source": [
    "d=lambda a,b:a+b\n",
    "print(d(12,34))"
   ]
  },
  {
   "cell_type": "code",
   "execution_count": null,
   "id": "457b4247-016c-4de2-9d7c-c92d8a75cef4",
   "metadata": {},
   "outputs": [],
   "source": []
  }
 ],
 "metadata": {
  "kernelspec": {
   "display_name": "Python [conda env:base] *",
   "language": "python",
   "name": "conda-base-py"
  },
  "language_info": {
   "codemirror_mode": {
    "name": "ipython",
    "version": 3
   },
   "file_extension": ".py",
   "mimetype": "text/x-python",
   "name": "python",
   "nbconvert_exporter": "python",
   "pygments_lexer": "ipython3",
   "version": "3.13.5"
  }
 },
 "nbformat": 4,
 "nbformat_minor": 5
}
