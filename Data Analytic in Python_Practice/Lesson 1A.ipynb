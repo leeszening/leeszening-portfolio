{
 "cells": [
  {
   "cell_type": "code",
   "execution_count": 1,
   "id": "179d49c9-a734-4544-8dd2-28a27e5e2268",
   "metadata": {},
   "outputs": [
    {
     "name": "stdout",
     "output_type": "stream",
     "text": [
      "My name is Sze Ning\n"
     ]
    }
   ],
   "source": [
    "print(\"My name is Sze Ning\")"
   ]
  },
  {
   "cell_type": "code",
   "execution_count": 2,
   "id": "12714856-1804-46b3-82ae-1fcb95b18683",
   "metadata": {},
   "outputs": [
    {
     "name": "stdout",
     "output_type": "stream",
     "text": [
      "14\n"
     ]
    }
   ],
   "source": [
    "print(12+2)"
   ]
  },
  {
   "cell_type": "code",
   "execution_count": null,
   "id": "9cd5b03a-edf4-4071-9625-0722ff6e8879",
   "metadata": {},
   "outputs": [],
   "source": []
  }
 ],
 "metadata": {
  "kernelspec": {
   "display_name": "Python [conda env:base] *",
   "language": "python",
   "name": "conda-base-py"
  },
  "language_info": {
   "codemirror_mode": {
    "name": "ipython",
    "version": 3
   },
   "file_extension": ".py",
   "mimetype": "text/x-python",
   "name": "python",
   "nbconvert_exporter": "python",
   "pygments_lexer": "ipython3",
   "version": "3.13.5"
  }
 },
 "nbformat": 4,
 "nbformat_minor": 5
}
