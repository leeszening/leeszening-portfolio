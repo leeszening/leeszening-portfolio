{
 "cells": [
  {
   "cell_type": "code",
   "execution_count": 13,
   "id": "940bde9d-fa17-4939-be71-b9620529b430",
   "metadata": {},
   "outputs": [
    {
     "name": "stdout",
     "output_type": "stream",
     "text": [
      "APPLE\n",
      "apple\n",
      "Apple\n",
      " i love $ coding .*$#\n",
      "i hate $ coding .*$#\n",
      "i hate $ coding\n"
     ]
    }
   ],
   "source": [
    "#replace, upper, lower, title, strip\n",
    "\n",
    "word = \"aPpLe\"\n",
    "message = \" i hate $ coding .*$#\"\n",
    "\n",
    "print(word.upper())\n",
    "print(word.lower())\n",
    "print(word.title())\n",
    "print(message.replace(\"hate\", \"love\"))\n",
    "print(message.strip())\n",
    "print(message.strip(\" .*$#\"))"
   ]
  },
  {
   "cell_type": "code",
   "execution_count": 15,
   "id": "85f74f9c-fff5-4fe7-89b3-a76f46ceeee9",
   "metadata": {},
   "outputs": [
    {
     "name": "stdout",
     "output_type": "stream",
     "text": [
      "original: ['Name', 'Age', 'Gender', 'Country', 'Income']\n",
      "clean: ['name', 'age', 'gender', 'country', 'income']\n"
     ]
    }
   ],
   "source": [
    "columns = [\"Name\", \"Age\", \"Gender\",\"Country\",\"Income\"]\n",
    "clean_columns = []\n",
    "\n",
    "for info in columns:\n",
    "    clean = info.lower()\n",
    "    clean_columns.append(clean)\n",
    "\n",
    "print(\"original:\", columns)\n",
    "print(\"clean:\", clean_columns)"
   ]
  },
  {
   "cell_type": "code",
   "execution_count": null,
   "id": "5506371e-ef4d-4c33-b9f2-40d5f9b441dd",
   "metadata": {},
   "outputs": [],
   "source": []
  },
  {
   "cell_type": "code",
   "execution_count": null,
   "id": "4fab4fc7-cdc2-483a-8c01-95436ddf6e51",
   "metadata": {},
   "outputs": [],
   "source": []
  }
 ],
 "metadata": {
  "kernelspec": {
   "display_name": "Python [conda env:base] *",
   "language": "python",
   "name": "conda-base-py"
  },
  "language_info": {
   "codemirror_mode": {
    "name": "ipython",
    "version": 3
   },
   "file_extension": ".py",
   "mimetype": "text/x-python",
   "name": "python",
   "nbconvert_exporter": "python",
   "pygments_lexer": "ipython3",
   "version": "3.13.5"
  }
 },
 "nbformat": 4,
 "nbformat_minor": 5
}
