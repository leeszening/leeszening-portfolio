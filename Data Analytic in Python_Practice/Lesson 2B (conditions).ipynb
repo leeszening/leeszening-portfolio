{
 "cells": [
  {
   "cell_type": "code",
   "execution_count": 2,
   "id": "b16b1926-a037-4576-b947-9501303f6815",
   "metadata": {},
   "outputs": [
    {
     "name": "stdout",
     "output_type": "stream",
     "text": [
      "False\n",
      "True\n",
      "True\n",
      "False\n",
      "True\n"
     ]
    }
   ],
   "source": [
    "bmi =23.9\n",
    "\n",
    "# 1. Your BMI is equal to 25\n",
    "print(bmi == 25)\n",
    "\n",
    "# 2. Your BMI is not equal to 25\n",
    "print(bmi != 25)\n",
    "\n",
    "# 3. Your BMI is less than 30\n",
    "print(bmi < 30)\n",
    "\n",
    "# 4. Your BMI is more than 30\n",
    "print(bmi > 30)\n",
    "\n",
    "# 5. Your BMI is more than or equal to 23.9\n",
    "print(bmi >= 23.9)"
   ]
  },
  {
   "cell_type": "code",
   "execution_count": 4,
   "id": "93cdf15d-0902-4e99-85ad-685c169316a5",
   "metadata": {},
   "outputs": [
    {
     "name": "stdout",
     "output_type": "stream",
     "text": [
      "True\n",
      "False\n",
      "True\n",
      "False\n",
      "True\n"
     ]
    }
   ],
   "source": [
    "age = 25\n",
    "height = 1.75\n",
    "\n",
    "print (age > 18 and height > 1.6)\n",
    "print (age > 18 and height < 1.6)\n",
    "\n",
    "print (age == 25 or height == 1.6)\n",
    "print (age == 18 or height == 1.6)\n",
    "\n",
    "is_sunny = False\n",
    "print(not is_sunny)\n"
   ]
  },
  {
   "cell_type": "code",
   "execution_count": 13,
   "id": "5c750692-5e7f-4b5b-a768-6e6ff10f05b4",
   "metadata": {},
   "outputs": [
    {
     "name": "stdin",
     "output_type": "stream",
     "text": [
      "enter your BMI: 30\n"
     ]
    },
    {
     "name": "stdout",
     "output_type": "stream",
     "text": [
      "You have a normal weight.\n"
     ]
    }
   ],
   "source": [
    "weight = float (input(\"enter your BMI:\"))\n",
    "\n",
    "if bmi < 18.5:\n",
    "    print(\"You are underweight.\")\n",
    "elif bmi <=24.9:\n",
    "    print(\"You have a normal weight.\")\n",
    "elif bmi <=30:\n",
    "    print(\"You are overweight.\")\n",
    "else:\n",
    "    print(\"You are obese.\")"
   ]
  },
  {
   "cell_type": "code",
   "execution_count": 18,
   "id": "38cf8740-db16-4773-9a72-26d363a1c27e",
   "metadata": {},
   "outputs": [
    {
     "name": "stdout",
     "output_type": "stream",
     "text": [
      "Welcome to this Body Mass Index Calculator!\n"
     ]
    },
    {
     "name": "stdin",
     "output_type": "stream",
     "text": [
      "Enter your weight (kg):  55\n",
      "Enter your height (m):  1.63\n"
     ]
    },
    {
     "name": "stdout",
     "output_type": "stream",
     "text": [
      "You have a normal weight.\n"
     ]
    }
   ],
   "source": [
    "# Part 1: Welcome the user and get their input\n",
    "print(\"Welcome to this Body Mass Index Calculator!\")\n",
    "weight = float (input (\"Enter your weight (kg): \")) #Ask for weight\n",
    "height = float (input (\"Enter your height (m): \")) #Ask for height\n",
    "# Part 2: Calculate their Body Mass Index (BMI)\n",
    "bmi = weight / (height **2) # Apply BMI formula\n",
    "# Part 3: Determine and display the BMI category\n",
    "if bmi < 18.5:\n",
    "    print (\"You are underweight.\")\n",
    "elif bmi <= 24.9:\n",
    "    print (\"You have a normal weight.\")\n",
    "elif bmi < 30:\n",
    "    print (\"You are overweight.\")\n",
    "else:\n",
    "    print (\"You are obese.\")"
   ]
  },
  {
   "cell_type": "code",
   "execution_count": null,
   "id": "577ba1e1-2e3d-43a8-b59b-323ec3aeab8d",
   "metadata": {},
   "outputs": [],
   "source": []
  }
 ],
 "metadata": {
  "kernelspec": {
   "display_name": "Python [conda env:base] *",
   "language": "python",
   "name": "conda-base-py"
  },
  "language_info": {
   "codemirror_mode": {
    "name": "ipython",
    "version": 3
   },
   "file_extension": ".py",
   "mimetype": "text/x-python",
   "name": "python",
   "nbconvert_exporter": "python",
   "pygments_lexer": "ipython3",
   "version": "3.13.5"
  }
 },
 "nbformat": 4,
 "nbformat_minor": 5
}
